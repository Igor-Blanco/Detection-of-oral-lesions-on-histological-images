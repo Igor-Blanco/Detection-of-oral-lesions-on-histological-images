{
 "cells": [
  {
   "cell_type": "code",
   "execution_count": 1,
   "id": "884ce2d8",
   "metadata": {},
   "outputs": [
    {
     "data": {
      "text/plain": [
       "'/device:GPU:0'"
      ]
     },
     "execution_count": 1,
     "metadata": {},
     "output_type": "execute_result"
    }
   ],
   "source": [
    "import tensorflow as tf\n",
    "tf.test.gpu_device_name()"
   ]
  },
  {
   "cell_type": "code",
   "execution_count": 2,
   "id": "b4585489",
   "metadata": {},
   "outputs": [],
   "source": [
    "import numpy as np\n",
    "import matplotlib.pyplot as plt\n",
    "import os\n",
    "import cv2\n",
    "from numpy import expand_dims\n",
    "from keras.preprocessing.image import load_img\n",
    "from keras.preprocessing.image import img_to_array\n",
    "from keras.preprocessing.image import ImageDataGenerator\n",
    "from matplotlib import pyplot"
   ]
  },
  {
   "cell_type": "code",
   "execution_count": 3,
   "id": "81b365fe",
   "metadata": {},
   "outputs": [],
   "source": [
    "#new_model = tf.keras.models.load_model(\"D:/Modelos/EfficientNet_B1_IMAGENET_IC\")"
   ]
  },
  {
   "cell_type": "code",
   "execution_count": 4,
   "id": "92410b77",
   "metadata": {
    "scrolled": false
   },
   "outputs": [],
   "source": [
    "#new_model.summary()"
   ]
  },
  {
   "cell_type": "code",
   "execution_count": 5,
   "id": "5fffc904",
   "metadata": {},
   "outputs": [
    {
     "data": {
      "text/plain": [
       "((75776, 24), (75776, 4))"
      ]
     },
     "execution_count": 5,
     "metadata": {},
     "output_type": "execute_result"
    }
   ],
   "source": [
    "#carrega os arrays de imagens e de classes\n",
    "X = np.load(\"D:/Displasia/displasiaDataAug/displasiaOriginalDataX_teste3_GLCM.npy\")\n",
    "Y = np.load(\"D:/Displasia/displasiaDataAug/displasiaOriginalDataYOneHot_teste3.npy\")\n",
    "#dataX = np.load(\"Image Arrays/displasiaGeneratedDataX.npy\")\n",
    "#dataY = np.load(\"Image Arrays/displasiaGeneratedDataY.npy\")\n",
    "\n",
    "#shape dos arrays\n",
    "X.shape, Y.shape"
   ]
  },
  {
   "cell_type": "code",
   "execution_count": 6,
   "id": "8858e4f4",
   "metadata": {},
   "outputs": [
    {
     "name": "stdout",
     "output_type": "stream",
     "text": [
      "Training:    (60620, 24) (60620, 4)\n",
      "Testing:     (15156, 24) (15156, 4)\n"
     ]
    }
   ],
   "source": [
    "from sklearn.model_selection import train_test_split\n",
    "\n",
    "#divide os dados em 80% para treino e 20% para teste\n",
    "train_X, test_X, train_label, test_label = train_test_split(X, Y, test_size=0.2, random_state=13)\n",
    "\n",
    "#divide os dados de treino em 80% para treino e 20% para validação\n",
    "#train_X, valid_X, train_label, valid_label = train_test_split(train_X, train_label, test_size=0.2, random_state=13)\n",
    "\n",
    "#mostra os shapes resultantes das divisões\n",
    "print(\"Training:   \", train_X.shape, train_label.shape)\n",
    "#print(\"Validation: \", valid_X.shape, valid_label.shape)\n",
    "print(\"Testing:    \", test_X.shape, test_label.shape)"
   ]
  },
  {
   "cell_type": "code",
   "execution_count": 7,
   "id": "1d74f077",
   "metadata": {},
   "outputs": [],
   "source": [
    "#import keras\n",
    "#intermediate_layer_model = keras.Model(inputs=new_model.input,\n",
    "#                                       outputs=new_model.get_layer('flatten').output)\n",
    "#intermediate_output = intermediate_layer_model.predict(valid_X)"
   ]
  },
  {
   "cell_type": "code",
   "execution_count": 8,
   "id": "cd9e21a2",
   "metadata": {},
   "outputs": [],
   "source": [
    "#newArr = np.append(intermediate_output, GLCM_features2 , axis=1)"
   ]
  },
  {
   "cell_type": "code",
   "execution_count": 9,
   "id": "0cdaf900",
   "metadata": {},
   "outputs": [],
   "source": [
    "from sklearn.ensemble import RandomForestClassifier"
   ]
  },
  {
   "cell_type": "code",
   "execution_count": 10,
   "id": "c6cd5641",
   "metadata": {},
   "outputs": [
    {
     "data": {
      "text/plain": [
       "RandomForestClassifier()"
      ]
     },
     "execution_count": 10,
     "metadata": {},
     "output_type": "execute_result"
    }
   ],
   "source": [
    "clf=RandomForestClassifier(n_estimators=100)\n",
    "#train_labels2=train_labels[:49984]\n",
    "clf.fit(train_X,train_label)"
   ]
  },
  {
   "cell_type": "code",
   "execution_count": 11,
   "id": "280ffef9",
   "metadata": {},
   "outputs": [],
   "source": [
    "#intermediate_layer_model_2 = keras.Model(inputs=new_model.input,\n",
    "#                                       outputs=new_model.get_layer('flatten').output)\n",
    "#intermediate_output_2 = intermediate_layer_model_2.predict(test_X)"
   ]
  },
  {
   "cell_type": "code",
   "execution_count": 12,
   "id": "87b4bfc5",
   "metadata": {},
   "outputs": [],
   "source": [
    "#newArr_test = np.append(intermediate_output_2, GLCM_features2_test , axis=1)"
   ]
  },
  {
   "cell_type": "code",
   "execution_count": 13,
   "id": "9712949c",
   "metadata": {},
   "outputs": [],
   "source": [
    "y_pred=clf.predict(test_X)"
   ]
  },
  {
   "cell_type": "code",
   "execution_count": 14,
   "id": "439c7f86",
   "metadata": {
    "scrolled": true
   },
   "outputs": [
    {
     "name": "stdout",
     "output_type": "stream",
     "text": [
      "Accuracy: 0.8949590921087358\n"
     ]
    }
   ],
   "source": [
    "from sklearn import metrics\n",
    "# Model Accuracy, how often is the classifier correct?\n",
    "print(\"Accuracy:\",metrics.accuracy_score(test_label, y_pred))"
   ]
  },
  {
   "cell_type": "code",
   "execution_count": 15,
   "id": "d32669e4",
   "metadata": {},
   "outputs": [
    {
     "data": {
      "text/plain": [
       "((15156, 4), (15156, 4))"
      ]
     },
     "execution_count": 15,
     "metadata": {},
     "output_type": "execute_result"
    }
   ],
   "source": [
    "#faz a predição das imagens\n",
    "\n",
    "from keras.utils import to_categorical\n",
    "\n",
    "predicted_classes = y_pred\n",
    "\n",
    "predicted_classes = np.argmax(np.round(predicted_classes),axis=1)\n",
    "\n",
    "predicted_classes = to_categorical(predicted_classes)\n",
    "\n",
    "predicted_classes.shape, test_label.shape"
   ]
  },
  {
   "cell_type": "code",
   "execution_count": 16,
   "id": "0057c8b0",
   "metadata": {},
   "outputs": [
    {
     "name": "stdout",
     "output_type": "stream",
     "text": [
      "              precision    recall  f1-score   support\n",
      "\n",
      "     Class 0       0.77      0.99      0.87      3802\n",
      "     Class 1       0.99      0.90      0.95      3812\n",
      "     Class 2       0.99      0.89      0.94      3755\n",
      "     Class 3       0.99      0.89      0.94      3787\n",
      "\n",
      "   micro avg       0.92      0.92      0.92     15156\n",
      "   macro avg       0.94      0.92      0.92     15156\n",
      "weighted avg       0.94      0.92      0.92     15156\n",
      " samples avg       0.92      0.92      0.92     15156\n",
      "\n"
     ]
    }
   ],
   "source": [
    "#mostra as estatísticas de cada classe\n",
    "num_classes = 4\n",
    "\n",
    "from sklearn.metrics import classification_report\n",
    "target_names = [\"Class {}\".format(i) for i in range(num_classes)]\n",
    "print(classification_report(test_label, predicted_classes, target_names=target_names))"
   ]
  },
  {
   "cell_type": "code",
   "execution_count": 17,
   "id": "1c799316",
   "metadata": {},
   "outputs": [
    {
     "name": "stdout",
     "output_type": "stream",
     "text": [
      "Precision:   [0.76673428 0.99363794 0.9928465  0.9888661 ]\n",
      "Sensitivity: [0.99421357 0.90136411 0.88708389 0.89120676]\n",
      "Specificity: [0.89871411 0.99806065 0.99789492 0.99665758]\n",
      "F1-score:    [0.86578104 0.94525447 0.93699015 0.9375    ]\n",
      "Accuracy:    [0.92267089 0.97373977 0.97044075 0.97030879]\n"
     ]
    }
   ],
   "source": [
    "from sklearn.metrics import confusion_matrix\n",
    "\n",
    "#converte os arrays de classe de one-hot para númerico\n",
    "test_label = np.argmax(test_label, axis=1)\n",
    "predicted_classes = np.argmax(predicted_classes, axis=1)\n",
    "\n",
    "#gera a matriz de confusão a partir da predição feita\n",
    "cm = confusion_matrix(test_label, predicted_classes)\n",
    "\n",
    "#gera os valores de falso positivo, falso negativo, verdadeiro positivo e verdadeiro negativo\n",
    "fp = cm.sum(axis=0) - np.diag(cm)  \n",
    "fn = cm.sum(axis=1) - np.diag(cm)\n",
    "tp = np.diag(cm)\n",
    "tn = cm.sum() - (fp + fn + tp)\n",
    "\n",
    "#gera a sensitividade, especificidade, acurácia e precisão\n",
    "sensitivity = tp / (tp + fn)\n",
    "specificity = tn / (tn + fp)\n",
    "accuracy    = (tp + tn) / (tp + tn + fp + fn)\n",
    "precision   = tp / (tp + fp)\n",
    "f1_score = 2/((1/precision)+(1/sensitivity))\n",
    "\n",
    "#mostra os resultados\n",
    "print(\"Precision:  \", precision)\n",
    "print(\"Sensitivity:\", sensitivity)\n",
    "print(\"Specificity:\", specificity)\n",
    "print(\"F1-score:   \", f1_score)\n",
    "print(\"Accuracy:   \", accuracy)"
   ]
  },
  {
   "cell_type": "code",
   "execution_count": null,
   "id": "cd9cd97c",
   "metadata": {},
   "outputs": [],
   "source": []
  }
 ],
 "metadata": {
  "kernelspec": {
   "display_name": "Python 3 (ipykernel)",
   "language": "python",
   "name": "python3"
  },
  "language_info": {
   "codemirror_mode": {
    "name": "ipython",
    "version": 3
   },
   "file_extension": ".py",
   "mimetype": "text/x-python",
   "name": "python",
   "nbconvert_exporter": "python",
   "pygments_lexer": "ipython3",
   "version": "3.9.7"
  }
 },
 "nbformat": 4,
 "nbformat_minor": 5
}
