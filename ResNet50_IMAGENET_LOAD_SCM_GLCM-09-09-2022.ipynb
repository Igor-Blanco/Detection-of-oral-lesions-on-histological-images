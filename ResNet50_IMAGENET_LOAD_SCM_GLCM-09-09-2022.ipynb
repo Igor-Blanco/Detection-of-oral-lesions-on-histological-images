{
 "cells": [
  {
   "cell_type": "code",
   "execution_count": 1,
   "id": "884ce2d8",
   "metadata": {},
   "outputs": [
    {
     "data": {
      "text/plain": [
       "'/device:GPU:0'"
      ]
     },
     "execution_count": 1,
     "metadata": {},
     "output_type": "execute_result"
    }
   ],
   "source": [
    "import tensorflow as tf\n",
    "tf.test.gpu_device_name()"
   ]
  },
  {
   "cell_type": "code",
   "execution_count": 2,
   "id": "b4585489",
   "metadata": {},
   "outputs": [],
   "source": [
    "import numpy as np\n",
    "import matplotlib.pyplot as plt\n",
    "import os\n",
    "import cv2\n",
    "from numpy import expand_dims\n",
    "from keras.preprocessing.image import load_img\n",
    "from keras.preprocessing.image import img_to_array\n",
    "from keras.preprocessing.image import ImageDataGenerator\n",
    "from matplotlib import pyplot"
   ]
  },
  {
   "cell_type": "code",
   "execution_count": 3,
   "id": "81b365fe",
   "metadata": {},
   "outputs": [],
   "source": [
    "new_model = tf.keras.models.load_model(\"D:/Modelos/ResNet50_IC_copy\")"
   ]
  },
  {
   "cell_type": "code",
   "execution_count": 4,
   "id": "92410b77",
   "metadata": {
    "scrolled": false
   },
   "outputs": [
    {
     "name": "stdout",
     "output_type": "stream",
     "text": [
      "Model: \"sequential\"\n",
      "_________________________________________________________________\n",
      "Layer (type)                 Output Shape              Param #   \n",
      "=================================================================\n",
      "resnet50 (Functional)        (None, 1, 1, 2048)        23587712  \n",
      "_________________________________________________________________\n",
      "global_average_pooling2d (Gl (None, 2048)              0         \n",
      "_________________________________________________________________\n",
      "flatten (Flatten)            (None, 2048)              0         \n",
      "_________________________________________________________________\n",
      "dropout (Dropout)            (None, 2048)              0         \n",
      "_________________________________________________________________\n",
      "dense (Dense)                (None, 512)               1049088   \n",
      "_________________________________________________________________\n",
      "dropout_1 (Dropout)          (None, 512)               0         \n",
      "_________________________________________________________________\n",
      "dense_1 (Dense)              (None, 4)                 2052      \n",
      "=================================================================\n",
      "Total params: 24,638,852\n",
      "Trainable params: 24,585,732\n",
      "Non-trainable params: 53,120\n",
      "_________________________________________________________________\n"
     ]
    }
   ],
   "source": [
    "new_model.summary()"
   ]
  },
  {
   "cell_type": "code",
   "execution_count": 5,
   "id": "5fffc904",
   "metadata": {},
   "outputs": [],
   "source": [
    "#carrega os arrays de imagens e de classes\n",
    "X = np.load(\"D:/Displasia/displasiaDataAug/displasiaOriginalDataX_teste3.npy\")\n",
    "Y = np.load(\"D:/Displasia/displasiaDataAug/displasiaOriginalDataYOneHot_teste3.npy\")\n",
    "XSCM = np.load(\"D:/Displasia/displasiaDataAug/displasiaOriginalDataX_teste3_SCM.npy\")\n",
    "XGLCM = np.load(\"D:/Displasia/displasiaDataAug/displasiaOriginalDataX_teste3_GLCM.npy\")\n",
    "#dataX = np.load(\"Image Arrays/displasiaGeneratedDataX.npy\")\n",
    "#dataY = np.load(\"Image Arrays/displasiaGeneratedDataY.npy\")\n",
    "\n",
    "XSCM = np.append(XSCM,XGLCM,axis=1)\n",
    "\n",
    "#shape dos arrays\n",
    "#train_X.shape, train_label.shape"
   ]
  },
  {
   "cell_type": "code",
   "execution_count": 6,
   "id": "8858e4f4",
   "metadata": {},
   "outputs": [
    {
     "name": "stdout",
     "output_type": "stream",
     "text": [
      "Training:    (60620, 32, 32, 3) (60620, 4)\n",
      "Testing:     (15156, 32, 32, 3) (15156, 4)\n"
     ]
    }
   ],
   "source": [
    "from sklearn.model_selection import train_test_split\n",
    "\n",
    "#divide os dados em 80% para treino e 20% para teste\n",
    "train_X, test_X, train_label, test_label = train_test_split(X, Y, test_size=0.2, random_state=13)\n",
    "\n",
    "train_XSCM, test_XSCM, train_label, test_label = train_test_split(XSCM, Y, test_size=0.2, random_state=13)\n",
    "\n",
    "#divide os dados de treino em 80% para treino e 20% para validação\n",
    "#train_X, valid_X, train_label, valid_label = train_test_split(train_X, train_label, test_size=0.2, random_state=13)\n",
    "\n",
    "#mostra os shapes resultantes das divisões\n",
    "print(\"Training:   \", train_X.shape, train_label.shape)\n",
    "#print(\"Validation: \", valid_X.shape, valid_label.shape)\n",
    "print(\"Testing:    \", test_X.shape, test_label.shape)"
   ]
  },
  {
   "cell_type": "code",
   "execution_count": 7,
   "id": "8db28e49",
   "metadata": {},
   "outputs": [],
   "source": [
    "import numpy as np\n",
    "from skimage.feature import greycomatrix, greycoprops\n",
    "from skimage import io, color, img_as_ubyte\n",
    "from sklearn import metrics\n",
    "from sklearn.ensemble import RandomForestClassifier\n",
    "import keras\n",
    "from sklearn.model_selection import KFold"
   ]
  },
  {
   "cell_type": "code",
   "execution_count": 8,
   "id": "e35007c4",
   "metadata": {},
   "outputs": [],
   "source": [
    "# GLCM properties\n",
    "#def contrast_feature(matrix_coocurrence):\n",
    "#\tcontrast = greycoprops(matrix_coocurrence, 'contrast')\n",
    "#\treturn contrast\n",
    "\n",
    "#def dissimilarity_feature(matrix_coocurrence):\n",
    "#\tdissimilarity = greycoprops(matrix_coocurrence, 'dissimilarity')\t\n",
    "#\treturn dissimilarity\n",
    "\n",
    "#def homogeneity_feature(matrix_coocurrence):\n",
    "#\thomogeneity = greycoprops(matrix_coocurrence, 'homogeneity')\n",
    "#\treturn homogeneity\n",
    "\n",
    "#def energy_feature(matrix_coocurrence):\n",
    "#\tenergy = greycoprops(matrix_coocurrence, 'energy')\n",
    "#\treturn energy\n",
    "\n",
    "#def correlation_feature(matrix_coocurrence):\n",
    "#\tcorrelation = greycoprops(matrix_coocurrence, 'correlation')\n",
    "#\treturn correlation\n",
    "\n",
    "#def asm_feature(matrix_coocurrence):\n",
    "#\tasm = greycoprops(matrix_coocurrence, 'ASM')\n",
    "#\treturn asm\n",
    "\n",
    "#GLCM_features = []\n",
    "\n",
    "#for image_item in valid_X:\n",
    "    \n",
    "#    gray_image = cv2.cvtColor(image_item, cv2.COLOR_BGR2GRAY)\n",
    "    \n",
    "#    img = gray_image\n",
    "\n",
    "    #gray = color.rgb2gray(img)\n",
    "#    image = img_as_ubyte(img)\n",
    "\n",
    "#    bins = np.array([0, 16, 32, 48, 64, 80, 96, 112, 128, 144, 160, 176, 192, 208, 224, 240, 255]) #16-bit\n",
    "#    inds = np.digitize(image, bins)\n",
    "\n",
    "#    max_value = inds.max()+1\n",
    "#    matrix_coocurrence = greycomatrix(inds, [1], [0, np.pi/4, np.pi/2, 3*np.pi/4], levels=max_value, normed=False, symmetric=False)\n",
    "    \n",
    "#    GLCM_features1 = np.append(GLCM_features,contrast_feature(matrix_coocurrence))\n",
    "#    GLCM_features2 = np.append(GLCM_features1,dissimilarity_feature(matrix_coocurrence))\n",
    "#    GLCM_features3 = np.append(GLCM_features2,homogeneity_feature(matrix_coocurrence))\n",
    "#    GLCM_features4 = np.append(GLCM_features3,energy_feature(matrix_coocurrence))\n",
    "#    GLCM_features5 = np.append(GLCM_features4,correlation_feature(matrix_coocurrence))\n",
    "#    GLCM_features6 = np.append(GLCM_features5,asm_feature(matrix_coocurrence))\n",
    "\n",
    "#    GLCM_features.append(contrast_feature(matrix_coocurrence))\n",
    "#    GLCM_features.append(dissimilarity_feature(matrix_coocurrence))\n",
    "#    GLCM_features.append(homogeneity_feature(matrix_coocurrence))\n",
    "#    GLCM_features.append(energy_feature(matrix_coocurrence))\n",
    "#    GLCM_features.append(correlation_feature(matrix_coocurrence))\n",
    "#    GLCM_features.append(asm_feature(matrix_coocurrence))"
   ]
  },
  {
   "cell_type": "code",
   "execution_count": 9,
   "id": "4f9ff45b",
   "metadata": {},
   "outputs": [],
   "source": [
    "#print(type(GLCM_features))\n",
    "#GLCM_features1 = np.asarray(GLCM_features)\n",
    "#print(type(GLCM_features1))\n",
    "#print(GLCM_features1.shape)"
   ]
  },
  {
   "cell_type": "code",
   "execution_count": 10,
   "id": "78ff6058",
   "metadata": {},
   "outputs": [],
   "source": [
    "#GLCM_features2 = np.reshape(GLCM_features1,(15156,24))"
   ]
  },
  {
   "cell_type": "code",
   "execution_count": 11,
   "id": "1d74f077",
   "metadata": {},
   "outputs": [],
   "source": [
    "#import keras\n",
    "#intermediate_layer_model = keras.Model(inputs=new_model.input,\n",
    "#                                       outputs=new_model.get_layer('flatten').output)\n",
    "#intermediate_output = intermediate_layer_model.predict(valid_X)"
   ]
  },
  {
   "cell_type": "code",
   "execution_count": 12,
   "id": "cd9e21a2",
   "metadata": {},
   "outputs": [],
   "source": [
    "#newArr = np.append(intermediate_output, GLCM_features2 , axis=1)"
   ]
  },
  {
   "cell_type": "code",
   "execution_count": 13,
   "id": "0cdaf900",
   "metadata": {},
   "outputs": [],
   "source": [
    "#from sklearn.ensemble import RandomForestClassifier"
   ]
  },
  {
   "cell_type": "code",
   "execution_count": 14,
   "id": "c6cd5641",
   "metadata": {},
   "outputs": [],
   "source": [
    "#clf=RandomForestClassifier(n_estimators=100)\n",
    "#train_labels2=train_labels[:49984]\n",
    "#clf.fit(newArr,valid_label)"
   ]
  },
  {
   "cell_type": "code",
   "execution_count": 15,
   "id": "280ffef9",
   "metadata": {},
   "outputs": [],
   "source": [
    "#intermediate_layer_model_2 = keras.Model(inputs=new_model.input,\n",
    "#                                       outputs=new_model.get_layer('flatten').output)\n",
    "#intermediate_output_2 = intermediate_layer_model_2.predict(test_X)"
   ]
  },
  {
   "cell_type": "code",
   "execution_count": 16,
   "id": "99846db0",
   "metadata": {},
   "outputs": [],
   "source": [
    "#GLCM_features_test = []\n",
    "\n",
    "#for image_item in test_X:\n",
    "    \n",
    "#    gray_image = cv2.cvtColor(image_item, cv2.COLOR_BGR2GRAY)\n",
    "    \n",
    "#    img = gray_image\n",
    "\n",
    "    #gray = color.rgb2gray(img)\n",
    "#    image = img_as_ubyte(img)\n",
    "\n",
    "#    bins = np.array([0, 16, 32, 48, 64, 80, 96, 112, 128, 144, 160, 176, 192, 208, 224, 240, 255]) #16-bit\n",
    "#    inds = np.digitize(image, bins)\n",
    "\n",
    "#    max_value = inds.max()+1\n",
    "#    matrix_coocurrence = greycomatrix(inds, [1], [0, np.pi/4, np.pi/2, 3*np.pi/4], levels=max_value, normed=False, symmetric=False)\n",
    "    \n",
    "#    GLCM_features1 = np.append(GLCM_features,contrast_feature(matrix_coocurrence))\n",
    "#    GLCM_features2 = np.append(GLCM_features1,dissimilarity_feature(matrix_coocurrence))\n",
    "#    GLCM_features3 = np.append(GLCM_features2,homogeneity_feature(matrix_coocurrence))\n",
    "#    GLCM_features4 = np.append(GLCM_features3,energy_feature(matrix_coocurrence))\n",
    "#    GLCM_features5 = np.append(GLCM_features4,correlation_feature(matrix_coocurrence))\n",
    "#    GLCM_features6 = np.append(GLCM_features5,asm_feature(matrix_coocurrence))\n",
    "\n",
    "#    GLCM_features_test.append(contrast_feature(matrix_coocurrence))\n",
    "#    GLCM_features_test.append(dissimilarity_feature(matrix_coocurrence))\n",
    "#    GLCM_features_test.append(homogeneity_feature(matrix_coocurrence))\n",
    "#    GLCM_features_test.append(energy_feature(matrix_coocurrence))\n",
    "#    GLCM_features_test.append(correlation_feature(matrix_coocurrence))\n",
    "#    GLCM_features_test.append(asm_feature(matrix_coocurrence))"
   ]
  },
  {
   "cell_type": "code",
   "execution_count": 17,
   "id": "ca6d9167",
   "metadata": {},
   "outputs": [],
   "source": [
    "#print(type(GLCM_features_test))\n",
    "#GLCM_features1_test = np.asarray(GLCM_features_test)\n",
    "#print(type(GLCM_features1_test))\n",
    "#print(GLCM_features1_test.shape)"
   ]
  },
  {
   "cell_type": "code",
   "execution_count": 18,
   "id": "f2920505",
   "metadata": {},
   "outputs": [],
   "source": [
    "#GLCM_features2_test = np.reshape(GLCM_features1_test,(18944,24))"
   ]
  },
  {
   "cell_type": "code",
   "execution_count": 19,
   "id": "87b4bfc5",
   "metadata": {},
   "outputs": [],
   "source": [
    "#newArr_test = np.append(intermediate_output_2, GLCM_features2_test , axis=1)"
   ]
  },
  {
   "cell_type": "code",
   "execution_count": 20,
   "id": "9712949c",
   "metadata": {},
   "outputs": [],
   "source": [
    "#y_pred=clf.predict(newArr_test)"
   ]
  },
  {
   "cell_type": "code",
   "execution_count": 21,
   "id": "439c7f86",
   "metadata": {},
   "outputs": [],
   "source": [
    "#from sklearn import metrics\n",
    "# Model Accuracy, how often is the classifier correct?\n",
    "#print(\"Accuracy:\",metrics.accuracy_score(test_label, y_pred))"
   ]
  },
  {
   "cell_type": "code",
   "execution_count": 22,
   "id": "1c799316",
   "metadata": {},
   "outputs": [
    {
     "name": "stdout",
     "output_type": "stream",
     "text": [
      "Accuracy: 0.93296384270256\n",
      "              precision    recall  f1-score   support\n",
      "\n",
      "     Class 0       0.90      0.98      0.94      3802\n",
      "     Class 1       0.92      0.91      0.91      3812\n",
      "     Class 2       0.95      0.91      0.93      3755\n",
      "     Class 3       0.97      0.94      0.96      3787\n",
      "\n",
      "   micro avg       0.94      0.94      0.94     15156\n",
      "   macro avg       0.94      0.94      0.94     15156\n",
      "weighted avg       0.94      0.94      0.94     15156\n",
      " samples avg       0.94      0.94      0.94     15156\n",
      "\n",
      "Precision:   [0.90323359 0.91923486 0.95252723 0.97354786]\n",
      "Sensitivity: [0.98448185 0.90766002 0.90838881 0.94269871]\n",
      "Specificity: [0.96468205 0.97320169 0.98508903 0.99146803]\n",
      "F1-score:    [0.94210924 0.91341077 0.92993457 0.95787497]\n",
      "Accuracy:    [0.96964898 0.95671681 0.96608604 0.97928213]\n"
     ]
    }
   ],
   "source": [
    "intermediate_layer_model = keras.Model(inputs=new_model.input,\n",
    "                                           outputs=new_model.get_layer('flatten').output)\n",
    "intermediate_output = intermediate_layer_model.predict(train_X)\n",
    "\n",
    "newArr = np.append(intermediate_output, train_XSCM , axis=1)\n",
    "\n",
    "clf=RandomForestClassifier(n_estimators=100)\n",
    "#train_labels2=train_labels[:49984]\n",
    "clf.fit(newArr,train_label)\n",
    "\n",
    "intermediate_layer_model_2 = keras.Model(inputs=new_model.input,\n",
    "                                       outputs=new_model.get_layer('flatten').output)\n",
    "intermediate_output_2 = intermediate_layer_model_2.predict(test_X)\n",
    "\n",
    "newArr_test = np.append(intermediate_output_2, test_XSCM , axis=1)\n",
    "\n",
    "y_pred=clf.predict(newArr_test)\n",
    "\n",
    "# Model Accuracy, how often is the classifier correct?\n",
    "print(\"Accuracy:\",metrics.accuracy_score(test_label, y_pred))\n",
    "#cvscores.append(metrics.accuracy_score(test_label, y_pred)*100)\n",
    "\n",
    "from keras.utils import to_categorical\n",
    "\n",
    "predicted_classes = y_pred\n",
    "\n",
    "predicted_classes = np.argmax(np.round(predicted_classes),axis=1)\n",
    "\n",
    "predicted_classes = to_categorical(predicted_classes)\n",
    "\n",
    "\n",
    "num_classes = 4\n",
    "from sklearn.metrics import classification_report\n",
    "target_names = [\"Class {}\".format(i) for i in range(num_classes)]\n",
    "print(classification_report(test_label, predicted_classes, target_names=target_names))\n",
    "\n",
    "from sklearn.metrics import confusion_matrix\n",
    "\n",
    "#converte os arrays de classe de one-hot para númerico\n",
    "test_label_aux = np.argmax(test_label, axis=1)\n",
    "predicted_classes = np.argmax(predicted_classes, axis=1)\n",
    "\n",
    "#gera a matriz de confusão a partir da predição feita\n",
    "cm = confusion_matrix(test_label_aux, predicted_classes)\n",
    "\n",
    "#gera os valores de falso positivo, falso negativo, verdadeiro positivo e verdadeiro negativo\n",
    "fp = cm.sum(axis=0) - np.diag(cm)  \n",
    "fn = cm.sum(axis=1) - np.diag(cm)\n",
    "tp = np.diag(cm)\n",
    "tn = cm.sum() - (fp + fn + tp)\n",
    "\n",
    "#gera a sensitividade, especificidade, acurácia e precisão\n",
    "sensitivity = tp / (tp + fn)\n",
    "specificity = tn / (tn + fp)\n",
    "accuracy    = (tp + tn) / (tp + tn + fp + fn)\n",
    "precision   = tp / (tp + fp)\n",
    "f1_score = 2/((1/precision)+(1/sensitivity))\n",
    "\n",
    "#mostra os resultados\n",
    "print(\"Precision:  \", precision)\n",
    "print(\"Sensitivity:\", sensitivity)\n",
    "print(\"Specificity:\", specificity)\n",
    "print(\"F1-score:   \", f1_score)\n",
    "print(\"Accuracy:   \", accuracy)"
   ]
  },
  {
   "cell_type": "code",
   "execution_count": null,
   "id": "37ddd8fc",
   "metadata": {},
   "outputs": [],
   "source": []
  }
 ],
 "metadata": {
  "kernelspec": {
   "display_name": "Python 3 (ipykernel)",
   "language": "python",
   "name": "python3"
  },
  "language_info": {
   "codemirror_mode": {
    "name": "ipython",
    "version": 3
   },
   "file_extension": ".py",
   "mimetype": "text/x-python",
   "name": "python",
   "nbconvert_exporter": "python",
   "pygments_lexer": "ipython3",
   "version": "3.9.7"
  }
 },
 "nbformat": 4,
 "nbformat_minor": 5
}
