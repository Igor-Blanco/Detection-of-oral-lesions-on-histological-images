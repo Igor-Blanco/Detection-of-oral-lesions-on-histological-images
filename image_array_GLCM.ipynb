{
 "cells": [
  {
   "cell_type": "code",
   "execution_count": 1,
   "id": "ab4d16b1",
   "metadata": {},
   "outputs": [
    {
     "data": {
      "text/plain": [
       "'/device:GPU:0'"
      ]
     },
     "execution_count": 1,
     "metadata": {},
     "output_type": "execute_result"
    }
   ],
   "source": [
    "import tensorflow as tf\n",
    "tf.test.gpu_device_name()"
   ]
  },
  {
   "cell_type": "code",
   "execution_count": 2,
   "id": "f4681612",
   "metadata": {},
   "outputs": [],
   "source": [
    "import numpy as np\n",
    "import matplotlib.pyplot as plt\n",
    "import os\n",
    "import cv2\n",
    "from numpy import expand_dims\n",
    "from keras.preprocessing.image import load_img\n",
    "from keras.preprocessing.image import img_to_array\n",
    "from keras.preprocessing.image import ImageDataGenerator\n",
    "from matplotlib import pyplot"
   ]
  },
  {
   "cell_type": "code",
   "execution_count": 3,
   "id": "c032ee36",
   "metadata": {},
   "outputs": [
    {
     "data": {
      "text/plain": [
       "((75776, 32, 32, 3), (75776, 4))"
      ]
     },
     "execution_count": 3,
     "metadata": {},
     "output_type": "execute_result"
    }
   ],
   "source": [
    "#carrega os arrays de imagens e de classes\n",
    "X = np.load(\"D:/Displasia/displasiaDataAug/displasiaOriginalDataX_teste3.npy\")\n",
    "Y = np.load(\"D:/Displasia/displasiaDataAug/displasiaOriginalDataYOneHot_teste3.npy\")\n",
    "#dataX = np.load(\"Image Arrays/displasiaGeneratedDataX.npy\")\n",
    "#dataY = np.load(\"Image Arrays/displasiaGeneratedDataY.npy\")\n",
    "\n",
    "#shape dos arrays\n",
    "X.shape, Y.shape"
   ]
  },
  {
   "cell_type": "code",
   "execution_count": 4,
   "id": "3938cb72",
   "metadata": {},
   "outputs": [],
   "source": [
    "import numpy as np\n",
    "from skimage.feature import greycomatrix, greycoprops\n",
    "from skimage import io, color, img_as_ubyte"
   ]
  },
  {
   "cell_type": "code",
   "execution_count": 5,
   "id": "187765b7",
   "metadata": {},
   "outputs": [],
   "source": [
    "# GLCM properties\n",
    "def contrast_feature(matrix_coocurrence):\n",
    "\tcontrast = greycoprops(matrix_coocurrence, 'contrast')\n",
    "\treturn contrast\n",
    "\n",
    "def dissimilarity_feature(matrix_coocurrence):\n",
    "\tdissimilarity = greycoprops(matrix_coocurrence, 'dissimilarity')\t\n",
    "\treturn dissimilarity\n",
    "\n",
    "def homogeneity_feature(matrix_coocurrence):\n",
    "\thomogeneity = greycoprops(matrix_coocurrence, 'homogeneity')\n",
    "\treturn homogeneity\n",
    "\n",
    "def energy_feature(matrix_coocurrence):\n",
    "\tenergy = greycoprops(matrix_coocurrence, 'energy')\n",
    "\treturn energy\n",
    "\n",
    "def correlation_feature(matrix_coocurrence):\n",
    "\tcorrelation = greycoprops(matrix_coocurrence, 'correlation')\n",
    "\treturn correlation\n",
    "\n",
    "def asm_feature(matrix_coocurrence):\n",
    "\tasm = greycoprops(matrix_coocurrence, 'ASM')\n",
    "\treturn asm\n",
    "\n",
    "GLCM_features = []\n",
    "\n",
    "for image_item in X:\n",
    "    \n",
    "    gray_image = cv2.cvtColor(image_item, cv2.COLOR_BGR2GRAY)\n",
    "    \n",
    "    img = gray_image\n",
    "\n",
    "    #gray = color.rgb2gray(img)\n",
    "    image = img_as_ubyte(img)\n",
    "\n",
    "    bins = np.array([0, 16, 32, 48, 64, 80, 96, 112, 128, 144, 160, 176, 192, 208, 224, 240, 255]) #16-bit\n",
    "    inds = np.digitize(image, bins)\n",
    "\n",
    "    max_value = inds.max()+1\n",
    "    matrix_coocurrence = greycomatrix(inds, [1], [0, np.pi/4, np.pi/2, 3*np.pi/4], levels=max_value, normed=False, symmetric=False)\n",
    "    \n",
    "#    GLCM_features1 = np.append(GLCM_features,contrast_feature(matrix_coocurrence))\n",
    "#    GLCM_features2 = np.append(GLCM_features1,dissimilarity_feature(matrix_coocurrence))\n",
    "#    GLCM_features3 = np.append(GLCM_features2,homogeneity_feature(matrix_coocurrence))\n",
    "#    GLCM_features4 = np.append(GLCM_features3,energy_feature(matrix_coocurrence))\n",
    "#    GLCM_features5 = np.append(GLCM_features4,correlation_feature(matrix_coocurrence))\n",
    "#    GLCM_features6 = np.append(GLCM_features5,asm_feature(matrix_coocurrence))\n",
    "\n",
    "    GLCM_features.append(contrast_feature(matrix_coocurrence))\n",
    "    GLCM_features.append(dissimilarity_feature(matrix_coocurrence))\n",
    "    GLCM_features.append(homogeneity_feature(matrix_coocurrence))\n",
    "    GLCM_features.append(energy_feature(matrix_coocurrence))\n",
    "    GLCM_features.append(correlation_feature(matrix_coocurrence))\n",
    "    GLCM_features.append(asm_feature(matrix_coocurrence))"
   ]
  },
  {
   "cell_type": "code",
   "execution_count": 6,
   "id": "8ec3e216",
   "metadata": {
    "scrolled": true
   },
   "outputs": [],
   "source": [
    "GLCM_features1 = np.asarray(GLCM_features)\n",
    "GLCM_features2 = np.reshape(GLCM_features1,(75776,24))"
   ]
  },
  {
   "cell_type": "code",
   "execution_count": 7,
   "id": "a7aa40ed",
   "metadata": {},
   "outputs": [],
   "source": [
    "np.save(\"D:/Displasia/displasiaDataAug/displasiaOriginalDataX_teste3_GLCM.npy\", GLCM_features2)"
   ]
  }
 ],
 "metadata": {
  "kernelspec": {
   "display_name": "Python 3 (ipykernel)",
   "language": "python",
   "name": "python3"
  },
  "language_info": {
   "codemirror_mode": {
    "name": "ipython",
    "version": 3
   },
   "file_extension": ".py",
   "mimetype": "text/x-python",
   "name": "python",
   "nbconvert_exporter": "python",
   "pygments_lexer": "ipython3",
   "version": "3.9.7"
  }
 },
 "nbformat": 4,
 "nbformat_minor": 5
}
