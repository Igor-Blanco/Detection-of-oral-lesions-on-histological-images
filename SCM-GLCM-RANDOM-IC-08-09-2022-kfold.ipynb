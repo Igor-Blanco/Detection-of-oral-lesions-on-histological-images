{
 "cells": [
  {
   "cell_type": "code",
   "execution_count": 1,
   "id": "884ce2d8",
   "metadata": {},
   "outputs": [
    {
     "data": {
      "text/plain": [
       "'/device:GPU:0'"
      ]
     },
     "execution_count": 1,
     "metadata": {},
     "output_type": "execute_result"
    }
   ],
   "source": [
    "import tensorflow as tf\n",
    "tf.test.gpu_device_name()"
   ]
  },
  {
   "cell_type": "code",
   "execution_count": 2,
   "id": "b4585489",
   "metadata": {},
   "outputs": [],
   "source": [
    "import numpy as np\n",
    "import matplotlib.pyplot as plt\n",
    "import os\n",
    "import cv2\n",
    "from numpy import expand_dims\n",
    "from keras.preprocessing.image import load_img\n",
    "from keras.preprocessing.image import img_to_array\n",
    "from keras.preprocessing.image import ImageDataGenerator\n",
    "from matplotlib import pyplot"
   ]
  },
  {
   "cell_type": "code",
   "execution_count": 3,
   "id": "81b365fe",
   "metadata": {},
   "outputs": [],
   "source": [
    "#new_model = tf.keras.models.load_model(\"D:/Modelos/EfficientNet_B1_IMAGENET_IC\")"
   ]
  },
  {
   "cell_type": "code",
   "execution_count": 4,
   "id": "92410b77",
   "metadata": {
    "scrolled": false
   },
   "outputs": [],
   "source": [
    "#new_model.summary()"
   ]
  },
  {
   "cell_type": "code",
   "execution_count": 5,
   "id": "5fffc904",
   "metadata": {},
   "outputs": [
    {
     "data": {
      "text/plain": [
       "((75776, 32), (75776, 4))"
      ]
     },
     "execution_count": 5,
     "metadata": {},
     "output_type": "execute_result"
    }
   ],
   "source": [
    "#carrega os arrays de imagens e de classes\n",
    "X = np.load(\"D:/Displasia/displasiaDataAug/displasiaOriginalDataX_teste3_GLCM.npy\")\n",
    "Y = np.load(\"D:/Displasia/displasiaDataAug/displasiaOriginalDataYOneHot_teste3.npy\")\n",
    "Z = np.load(\"D:/Displasia/displasiaDataAug/displasiaOriginalDataX_teste3_SCM.npy\")\n",
    "#dataX = np.load(\"Image Arrays/displasiaGeneratedDataX.npy\")\n",
    "#dataY = np.load(\"Image Arrays/displasiaGeneratedDataY.npy\")\n",
    "\n",
    "X = np.append(X,Z,axis=1)\n",
    "\n",
    "#shape dos arrays\n",
    "X.shape, Y.shape"
   ]
  },
  {
   "cell_type": "code",
   "execution_count": 6,
   "id": "8858e4f4",
   "metadata": {},
   "outputs": [
    {
     "name": "stdout",
     "output_type": "stream",
     "text": [
      "Training:    (60620, 32) (60620, 4)\n",
      "Testing:     (15156, 32) (15156, 4)\n"
     ]
    }
   ],
   "source": [
    "from sklearn.model_selection import train_test_split\n",
    "\n",
    "#divide os dados em 80% para treino e 20% para teste\n",
    "train_X, test_X, train_label, test_label = train_test_split(X, Y, test_size=0.2, random_state=13)\n",
    "\n",
    "#divide os dados de treino em 80% para treino e 20% para validação\n",
    "#train_X, valid_X, train_label, valid_label = train_test_split(train_X, train_label, test_size=0.2, random_state=13)\n",
    "\n",
    "#mostra os shapes resultantes das divisões\n",
    "print(\"Training:   \", train_X.shape, train_label.shape)\n",
    "#print(\"Validation: \", valid_X.shape, valid_label.shape)\n",
    "print(\"Testing:    \", test_X.shape, test_label.shape)"
   ]
  },
  {
   "cell_type": "code",
   "execution_count": 7,
   "id": "ea50dcb2",
   "metadata": {
    "scrolled": true
   },
   "outputs": [
    {
     "name": "stdout",
     "output_type": "stream",
     "text": [
      "Accuracy: 0.8775402480865664\n",
      "              precision    recall  f1-score   support\n",
      "\n",
      "     Class 0       0.74      0.99      0.85      3867\n",
      "     Class 1       0.99      0.88      0.93      3755\n",
      "     Class 2       0.99      0.88      0.93      3686\n",
      "     Class 3       0.99      0.87      0.93      3848\n",
      "\n",
      "   micro avg       0.91      0.91      0.91     15156\n",
      "   macro avg       0.93      0.91      0.91     15156\n",
      "weighted avg       0.93      0.91      0.91     15156\n",
      " samples avg       0.91      0.91      0.91     15156\n",
      "\n",
      "Precision:   [0.74378882 0.99427711 0.99056891 0.98793053]\n",
      "Sensitivity: [0.99094906 0.87909454 0.88334238 0.87214137]\n",
      "Specificity: [0.88307202 0.99833348 0.9972973  0.99637425]\n",
      "F1-score:    [0.84976161 0.93314488 0.93388785 0.92643202]\n",
      "Accuracy:    [0.91059646 0.96879124 0.969583   0.96483241]\n",
      "\n",
      "[[0.74378882 0.99094906 0.88307202 0.84976161 0.91059646]\n",
      " [0.99427711 0.87909454 0.99833348 0.93314488 0.96879124]\n",
      " [0.99056891 0.88334238 0.9972973  0.93388785 0.969583  ]\n",
      " [0.98793053 0.87214137 0.99637425 0.92643202 0.96483241]]\n",
      "Accuracy: 0.8810293632464533\n",
      "              precision    recall  f1-score   support\n",
      "\n",
      "     Class 0       0.74      0.99      0.85      3761\n",
      "     Class 1       1.00      0.88      0.93      3776\n",
      "     Class 2       0.99      0.87      0.93      3819\n",
      "     Class 3       0.98      0.89      0.93      3799\n",
      "\n",
      "   micro avg       0.91      0.91      0.91     15155\n",
      "   macro avg       0.93      0.91      0.91     15155\n",
      "weighted avg       0.93      0.91      0.91     15155\n",
      " samples avg       0.91      0.91      0.91     15155\n",
      "\n",
      "Precision:   [0.74185862 0.9978941  0.9922619  0.98078603]\n",
      "Sensitivity: [0.99335283 0.8784428  0.8730034  0.88681232]\n",
      "Specificity: [0.88590486 0.99938483 0.99770642 0.99418809]\n",
      "F1-score:    [0.84938047 0.9343662  0.92882017 0.93143489]\n",
      "Accuracy:    [0.91257011 0.96925107 0.96628176 0.96727153]\n",
      "\n",
      "[[0.74185862 0.99335283 0.88590486 0.84938047 0.91257011]\n",
      " [0.9978941  0.8784428  0.99938483 0.9343662  0.96925107]\n",
      " [0.9922619  0.8730034  0.99770642 0.92882017 0.96628176]\n",
      " [0.98078603 0.88681232 0.99418809 0.93143489 0.96727153]]\n",
      "Accuracy: 0.8810953480699439\n",
      "              precision    recall  f1-score   support\n",
      "\n",
      "     Class 0       0.74      0.99      0.85      3802\n",
      "     Class 1       0.99      0.87      0.93      3797\n",
      "     Class 2       0.99      0.88      0.93      3741\n",
      "     Class 3       0.99      0.88      0.93      3815\n",
      "\n",
      "   micro avg       0.91      0.91      0.91     15155\n",
      "   macro avg       0.93      0.91      0.91     15155\n",
      "weighted avg       0.93      0.91      0.91     15155\n",
      " samples avg       0.91      0.91      0.91     15155\n",
      "\n",
      "Precision:   [0.73969376 0.99073797 0.99275581 0.99000294]\n",
      "Sensitivity: [0.99105734 0.87332104 0.87917669 0.88256881]\n",
      "Specificity: [0.88320268 0.99727065 0.99789732 0.99700176]\n",
      "F1-score:    [0.8471223  0.92833147 0.93252056 0.93320399]\n",
      "Accuracy:    [0.91026064 0.96621577 0.96859122 0.96819532]\n",
      "\n",
      "[[0.73969376 0.99105734 0.88320268 0.8471223  0.91026064]\n",
      " [0.99073797 0.87332104 0.99727065 0.92833147 0.96621577]\n",
      " [0.99275581 0.87917669 0.99789732 0.93252056 0.96859122]\n",
      " [0.99000294 0.88256881 0.99700176 0.93320399 0.96819532]]\n",
      "Accuracy: 0.8799736060706037\n",
      "              precision    recall  f1-score   support\n",
      "\n",
      "     Class 0       0.73      1.00      0.84      3655\n",
      "     Class 1       0.99      0.88      0.94      3841\n",
      "     Class 2       1.00      0.87      0.93      3840\n",
      "     Class 3       0.99      0.88      0.93      3819\n",
      "\n",
      "   micro avg       0.91      0.91      0.91     15155\n",
      "   macro avg       0.93      0.91      0.91     15155\n",
      "weighted avg       0.93      0.91      0.91     15155\n",
      " samples avg       0.91      0.91      0.91     15155\n",
      "\n",
      "Precision:   [0.73008228 0.99385785 0.99583333 0.99056882]\n",
      "Sensitivity: [0.99534884 0.88466545 0.87135417 0.88007332]\n",
      "Specificity: [0.88304348 0.99814389 0.9987627  0.99717713]\n",
      "F1-score:    [0.84232461 0.93608815 0.92944444 0.93205768]\n",
      "Accuracy:    [0.91012867 0.96938304 0.96647971 0.96766744]\n",
      "\n",
      "[[0.73008228 0.99534884 0.88304348 0.84232461 0.91012867]\n",
      " [0.99385785 0.88466545 0.99814389 0.93608815 0.96938304]\n",
      " [0.99583333 0.87135417 0.9987627  0.92944444 0.96647971]\n",
      " [0.99056882 0.88007332 0.99717713 0.93205768 0.96766744]]\n",
      "Accuracy: 0.8707357307819201\n",
      "              precision    recall  f1-score   support\n",
      "\n",
      "     Class 0       0.74      0.99      0.85      3859\n",
      "     Class 1       1.00      0.87      0.93      3775\n",
      "     Class 2       0.99      0.86      0.92      3858\n",
      "     Class 3       0.98      0.89      0.93      3663\n",
      "\n",
      "   micro avg       0.90      0.90      0.90     15155\n",
      "   macro avg       0.93      0.90      0.91     15155\n",
      "weighted avg       0.93      0.90      0.91     15155\n",
      " samples avg       0.90      0.90      0.90     15155\n",
      "\n",
      "Precision:   [0.73917247 0.99576271 0.99196668 0.98161543]\n",
      "Sensitivity: [0.99067116 0.87152318 0.86417833 0.88916189]\n",
      "Specificity: [0.8805772  0.99876977 0.99760998 0.99469196]\n",
      "F1-score:    [0.84663935 0.92950982 0.92367364 0.93310414]\n",
      "Accuracy:    [0.90861102 0.96707357 0.96364236 0.96918509]\n",
      "\n",
      "[[0.73917247 0.99067116 0.8805772  0.84663935 0.90861102]\n",
      " [0.99576271 0.87152318 0.99876977 0.92950982 0.96707357]\n",
      " [0.99196668 0.86417833 0.99760998 0.92367364 0.96364236]\n",
      " [0.98161543 0.88916189 0.99469196 0.93310414 0.96918509]]\n"
     ]
    }
   ],
   "source": [
    "from sklearn.model_selection import KFold\n",
    "from sklearn.metrics import classification_report\n",
    "from sklearn.metrics import confusion_matrix\n",
    "from sklearn import metrics\n",
    "from sklearn.ensemble import RandomForestClassifier\n",
    "#kfold = StratifiedKFold(n_splits=5, shuffle=True, random_state=7)\n",
    "kfold = KFold(n_splits=5, shuffle=True, random_state=7)\n",
    "cvscores = []\n",
    "num_kfold=1\n",
    "#from tensorflow.keras.layers import Activation, Dense\n",
    "#new_model = GlobalAveragePooling2D()(model)\n",
    "#drop = Dropout(0.2)(new_model)\n",
    "#new_model2 = Dense(4,activation='relu')(drop)\n",
    "\n",
    "#new_model3 = Model(inputs=model.input, outputs=new_model)\n",
    "#layers.GlobalAveragePooling2D(\n",
    "#    data_format=None, keepdims=False, #**kwargs\n",
    "#)\n",
    "\n",
    "mean = [[[],[],[],[],[]],\n",
    "         [[],[],[],[],[]],\n",
    "         [[],[],[],[],[]],\n",
    "         [[],[],[],[],[]]]\n",
    "\n",
    "std = [[[],[],[],[],[]],\n",
    "         [[],[],[],[],[]],\n",
    "         [[],[],[],[],[]],\n",
    "         [[],[],[],[],[]]]\n",
    "\n",
    "for train, test in kfold.split (X, Y):\n",
    "    \n",
    "    clf=RandomForestClassifier(n_estimators=100)\n",
    "    #train_labels2=train_labels[:49984]\n",
    "    clf.fit(X[train],Y[train])\n",
    "    \n",
    "    y_pred=clf.predict(X[test])\n",
    "    print(\"Accuracy:\",metrics.accuracy_score(Y[test], y_pred))\n",
    "    #faz a predição das imagens\n",
    "\n",
    "    from keras.utils import to_categorical\n",
    "\n",
    "    predicted_classes = y_pred\n",
    "\n",
    "    predicted_classes = np.argmax(np.round(predicted_classes),axis=1)\n",
    "\n",
    "    predicted_classes = to_categorical(predicted_classes)\n",
    "\n",
    "#    predicted_classes.shape, test_label.shape\n",
    "\n",
    "    num_classes = 4\n",
    "\n",
    "    target_names = [\"Class {}\".format(i) for i in range(num_classes)]\n",
    "    print(classification_report(Y[test], predicted_classes, target_names=target_names))\n",
    "\n",
    "    #converte os arrays de classe de one-hot para númerico\n",
    "    test_label = np.argmax(Y[test], axis=1)\n",
    "    predicted_classes = np.argmax(predicted_classes, axis=1)\n",
    "\n",
    "    #gera a matriz de confusão a partir da predição feita\n",
    "    cm = confusion_matrix(test_label, predicted_classes)\n",
    "\n",
    "    #gera os valores de falso positivo, falso negativo, verdadeiro positivo e verdadeiro negativo\n",
    "    fp = cm.sum(axis=0) - np.diag(cm)  \n",
    "    fn = cm.sum(axis=1) - np.diag(cm)\n",
    "    tp = np.diag(cm)\n",
    "    tn = cm.sum() - (fp + fn + tp)\n",
    "\n",
    "    #gera a sensitividade, especificidade, acurácia e precisão\n",
    "    sensitivity = tp / (tp + fn)\n",
    "    specificity = tn / (tn + fp)\n",
    "    accuracy    = (tp + tn) / (tp + tn + fp + fn)\n",
    "    precision   = tp / (tp + fp)\n",
    "    f1_score = 2/((1/precision)+(1/sensitivity))\n",
    "\n",
    "    #mostra os resultados\n",
    "    print(\"Precision:  \", precision)\n",
    "    print(\"Sensitivity:\", sensitivity)\n",
    "    print(\"Specificity:\", specificity)\n",
    "    print(\"F1-score:   \", f1_score)\n",
    "    print(\"Accuracy:   \", accuracy)\n",
    "    \n",
    "    x = []\n",
    "    x.append(precision)\n",
    "    x.append(sensitivity)\n",
    "    x.append(specificity)\n",
    "    x.append(f1_score)\n",
    "    x.append(accuracy)\n",
    "    \n",
    "    x = np.asarray(x)\n",
    "    \n",
    "    x = x.transpose()\n",
    "    print()\n",
    "    print(x)\n",
    "    \n",
    "    for i in range(4):\n",
    "        for j in range(5):\n",
    "            mean[i][j].append(x[i][j])\n",
    "            std[i][j].append(x[i][j])"
   ]
  },
  {
   "cell_type": "code",
   "execution_count": 8,
   "id": "ac23e39f",
   "metadata": {},
   "outputs": [
    {
     "name": "stdout",
     "output_type": "stream",
     "text": [
      "[0.73891919 0.99227584 0.88316005 0.84704567 0.91043338]\n",
      "[0.99450595 0.8774094  0.99838052 0.9322881  0.96814294]\n",
      "[0.99267733 0.87421099 0.99785475 0.92966933 0.96691561]\n",
      "[0.98618075 0.88215154 0.99588664 0.93124655 0.96743036]\n",
      "\n",
      "[0.00471399 0.00181236 0.00168691 0.00265658 0.00126775]\n",
      "[0.00235496 0.00464586 0.00070003 0.00292803 0.00126836]\n",
      "[0.00173721 0.00660779 0.00049373 0.00353964 0.00206051]\n",
      "[0.00416824 0.00592561 0.00122139 0.00249621 0.00144879]\n"
     ]
    }
   ],
   "source": [
    "mean = np.asarray(mean)\n",
    "std = np.asarray(std)\n",
    "for i in mean:\n",
    "    print(np.mean(i,axis=1))\n",
    "print()\n",
    "for i in std:\n",
    "    print(np.std(i,axis=1))"
   ]
  },
  {
   "cell_type": "code",
   "execution_count": 9,
   "id": "1d74f077",
   "metadata": {},
   "outputs": [],
   "source": [
    "#import keras\n",
    "#intermediate_layer_model = keras.Model(inputs=new_model.input,\n",
    "#                                       outputs=new_model.get_layer('flatten').output)\n",
    "#intermediate_output = intermediate_layer_model.predict(valid_X)"
   ]
  },
  {
   "cell_type": "code",
   "execution_count": 10,
   "id": "cd9e21a2",
   "metadata": {},
   "outputs": [],
   "source": [
    "#newArr = np.append(intermediate_output, GLCM_features2 , axis=1)"
   ]
  },
  {
   "cell_type": "code",
   "execution_count": 11,
   "id": "0cdaf900",
   "metadata": {},
   "outputs": [],
   "source": [
    "#from sklearn.ensemble import RandomForestClassifier"
   ]
  },
  {
   "cell_type": "code",
   "execution_count": 12,
   "id": "c6cd5641",
   "metadata": {},
   "outputs": [],
   "source": [
    "#clf=RandomForestClassifier(n_estimators=100)\n",
    "#train_labels2=train_labels[:49984]\n",
    "#clf.fit(train_X,train_label)"
   ]
  },
  {
   "cell_type": "code",
   "execution_count": 13,
   "id": "280ffef9",
   "metadata": {},
   "outputs": [],
   "source": [
    "#intermediate_layer_model_2 = keras.Model(inputs=new_model.input,\n",
    "#                                       outputs=new_model.get_layer('flatten').output)\n",
    "#intermediate_output_2 = intermediate_layer_model_2.predict(test_X)"
   ]
  },
  {
   "cell_type": "code",
   "execution_count": 14,
   "id": "87b4bfc5",
   "metadata": {},
   "outputs": [],
   "source": [
    "#newArr_test = np.append(intermediate_output_2, GLCM_features2_test , axis=1)"
   ]
  },
  {
   "cell_type": "code",
   "execution_count": 15,
   "id": "9712949c",
   "metadata": {},
   "outputs": [],
   "source": [
    "#y_pred=clf.predict(test_X)"
   ]
  },
  {
   "cell_type": "code",
   "execution_count": 16,
   "id": "439c7f86",
   "metadata": {
    "scrolled": true
   },
   "outputs": [],
   "source": [
    "#from sklearn import metrics\n",
    "# Model Accuracy, how often is the classifier correct?\n",
    "#print(\"Accuracy:\",metrics.accuracy_score(test_label, y_pred))"
   ]
  },
  {
   "cell_type": "code",
   "execution_count": 17,
   "id": "d32669e4",
   "metadata": {},
   "outputs": [],
   "source": [
    "#faz a predição das imagens\n",
    "\n",
    "#from keras.utils import to_categorical\n",
    "\n",
    "#predicted_classes = y_pred\n",
    "\n",
    "#predicted_classes = np.argmax(np.round(predicted_classes),axis=1)\n",
    "\n",
    "#predicted_classes = to_categorical(predicted_classes)\n",
    "\n",
    "#predicted_classes.shape, test_label.shape"
   ]
  },
  {
   "cell_type": "code",
   "execution_count": 18,
   "id": "0057c8b0",
   "metadata": {},
   "outputs": [],
   "source": [
    "#mostra as estatísticas de cada classe\n",
    "#num_classes = 4\n",
    "\n",
    "#from sklearn.metrics import classification_report\n",
    "#target_names = [\"Class {}\".format(i) for i in range(num_classes)]\n",
    "#print(classification_report(test_label, predicted_classes, target_names=target_names))"
   ]
  },
  {
   "cell_type": "code",
   "execution_count": 19,
   "id": "1c799316",
   "metadata": {},
   "outputs": [],
   "source": [
    "#from sklearn.metrics import confusion_matrix\n",
    "\n",
    "#converte os arrays de classe de one-hot para númerico\n",
    "#test_label = np.argmax(test_label, axis=1)\n",
    "#predicted_classes = np.argmax(predicted_classes, axis=1)\n",
    "\n",
    "#gera a matriz de confusão a partir da predição feita\n",
    "#cm = confusion_matrix(test_label, predicted_classes)\n",
    "\n",
    "#gera os valores de falso positivo, falso negativo, verdadeiro positivo e verdadeiro negativo\n",
    "#fp = cm.sum(axis=0) - np.diag(cm)  \n",
    "#fn = cm.sum(axis=1) - np.diag(cm)\n",
    "#tp = np.diag(cm)\n",
    "#tn = cm.sum() - (fp + fn + tp)\n",
    "\n",
    "#gera a sensitividade, especificidade, acurácia e precisão\n",
    "#sensitivity = tp / (tp + fn)\n",
    "#specificity = tn / (tn + fp)\n",
    "#accuracy    = (tp + tn) / (tp + tn + fp + fn)\n",
    "#precision   = tp / (tp + fp)\n",
    "#f1_score = 2/((1/precision)+(1/sensitivity))\n",
    "\n",
    "#mostra os resultados\n",
    "#print(\"Precision:  \", precision)\n",
    "#print(\"Sensitivity:\", sensitivity)\n",
    "#print(\"Specificity:\", specificity)\n",
    "#print(\"F1-score:   \", f1_score)\n",
    "#print(\"Accuracy:   \", accuracy)"
   ]
  },
  {
   "cell_type": "code",
   "execution_count": null,
   "id": "a9cfa165",
   "metadata": {},
   "outputs": [],
   "source": []
  }
 ],
 "metadata": {
  "kernelspec": {
   "display_name": "Python 3 (ipykernel)",
   "language": "python",
   "name": "python3"
  },
  "language_info": {
   "codemirror_mode": {
    "name": "ipython",
    "version": 3
   },
   "file_extension": ".py",
   "mimetype": "text/x-python",
   "name": "python",
   "nbconvert_exporter": "python",
   "pygments_lexer": "ipython3",
   "version": "3.9.7"
  }
 },
 "nbformat": 4,
 "nbformat_minor": 5
}
