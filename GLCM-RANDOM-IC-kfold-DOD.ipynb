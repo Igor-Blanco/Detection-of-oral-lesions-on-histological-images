{
 "cells": [
  {
   "cell_type": "code",
   "execution_count": 1,
   "id": "884ce2d8",
   "metadata": {},
   "outputs": [
    {
     "data": {
      "text/plain": [
       "'/device:GPU:0'"
      ]
     },
     "execution_count": 1,
     "metadata": {},
     "output_type": "execute_result"
    }
   ],
   "source": [
    "import tensorflow as tf\n",
    "tf.test.gpu_device_name()"
   ]
  },
  {
   "cell_type": "code",
   "execution_count": 2,
   "id": "b4585489",
   "metadata": {},
   "outputs": [],
   "source": [
    "import numpy as np\n",
    "import matplotlib.pyplot as plt\n",
    "import os\n",
    "import cv2\n",
    "from numpy import expand_dims\n",
    "from keras.preprocessing.image import load_img\n",
    "from keras.preprocessing.image import img_to_array\n",
    "from keras.preprocessing.image import ImageDataGenerator\n",
    "from matplotlib import pyplot"
   ]
  },
  {
   "cell_type": "code",
   "execution_count": 3,
   "id": "81b365fe",
   "metadata": {},
   "outputs": [],
   "source": [
    "#new_model = tf.keras.models.load_model(\"D:/Modelos/EfficientNet_B1_IMAGENET_IC\")"
   ]
  },
  {
   "cell_type": "code",
   "execution_count": 4,
   "id": "92410b77",
   "metadata": {
    "scrolled": false
   },
   "outputs": [],
   "source": [
    "#new_model.summary()"
   ]
  },
  {
   "cell_type": "code",
   "execution_count": 5,
   "id": "5fffc904",
   "metadata": {},
   "outputs": [
    {
     "data": {
      "text/plain": [
       "((75776, 24), (75776, 4))"
      ]
     },
     "execution_count": 5,
     "metadata": {},
     "output_type": "execute_result"
    }
   ],
   "source": [
    "#carrega os arrays de imagens e de classes\n",
    "X = np.load(\"D:/Displasia/displasiaDataAug/displasiaOriginalDataX_teste3_GLCM.npy\")\n",
    "Y = np.load(\"D:/Displasia/displasiaDataAug/displasiaOriginalDataYOneHot_teste3.npy\")\n",
    "#dataX = np.load(\"Image Arrays/displasiaGeneratedDataX.npy\")\n",
    "#dataY = np.load(\"Image Arrays/displasiaGeneratedDataY.npy\")\n",
    "\n",
    "#shape dos arrays\n",
    "X.shape, Y.shape"
   ]
  },
  {
   "cell_type": "code",
   "execution_count": 6,
   "id": "8858e4f4",
   "metadata": {},
   "outputs": [
    {
     "name": "stdout",
     "output_type": "stream",
     "text": [
      "Training:    (60620, 24) (60620, 4)\n",
      "Testing:     (15156, 24) (15156, 4)\n"
     ]
    }
   ],
   "source": [
    "from sklearn.model_selection import train_test_split\n",
    "\n",
    "#divide os dados em 80% para treino e 20% para teste\n",
    "train_X, test_X, train_label, test_label = train_test_split(X, Y, test_size=0.2, random_state=13)\n",
    "\n",
    "#divide os dados de treino em 80% para treino e 20% para validação\n",
    "#train_X, valid_X, train_label, valid_label = train_test_split(train_X, train_label, test_size=0.2, random_state=13)\n",
    "\n",
    "#mostra os shapes resultantes das divisões\n",
    "print(\"Training:   \", train_X.shape, train_label.shape)\n",
    "#print(\"Validation: \", valid_X.shape, valid_label.shape)\n",
    "print(\"Testing:    \", test_X.shape, test_label.shape)"
   ]
  },
  {
   "cell_type": "code",
   "execution_count": 7,
   "id": "ea50dcb2",
   "metadata": {},
   "outputs": [
    {
     "name": "stdout",
     "output_type": "stream",
     "text": [
      "Accuracy: 0.8854579044602797\n",
      "              precision    recall  f1-score   support\n",
      "\n",
      "     Class 0       0.76      0.99      0.86      3867\n",
      "     Class 1       0.99      0.89      0.94      3755\n",
      "     Class 2       0.99      0.89      0.94      3686\n",
      "     Class 3       0.99      0.88      0.93      3848\n",
      "\n",
      "   micro avg       0.91      0.91      0.91     15156\n",
      "   macro avg       0.93      0.91      0.92     15156\n",
      "weighted avg       0.93      0.91      0.92     15156\n",
      " samples avg       0.91      0.91      0.91     15156\n",
      "\n",
      "Precision:   [0.75576128 0.9928465  0.99153567 0.99180328]\n",
      "Sensitivity: [0.99224205 0.88708389 0.8898535  0.88045738]\n",
      "Specificity: [0.89015856 0.99789492 0.99755885 0.99752388]\n",
      "F1-score:    [0.85800537 0.93699015 0.93794681 0.93281938]\n",
      "Accuracy:    [0.9162048  0.97044075 0.97136448 0.96780153]\n",
      "\n",
      "[[0.75576128 0.99224205 0.89015856 0.85800537 0.9162048 ]\n",
      " [0.9928465  0.88708389 0.99789492 0.93699015 0.97044075]\n",
      " [0.99153567 0.8898535  0.99755885 0.93794681 0.97136448]\n",
      " [0.99180328 0.88045738 0.99752388 0.93281938 0.96780153]]\n",
      "Accuracy: 0.8894094358297592\n",
      "              precision    recall  f1-score   support\n",
      "\n",
      "     Class 0       0.76      0.99      0.86      3761\n",
      "     Class 1       1.00      0.89      0.94      3776\n",
      "     Class 2       0.99      0.88      0.94      3819\n",
      "     Class 3       0.98      0.89      0.93      3799\n",
      "\n",
      "   micro avg       0.91      0.91      0.91     15155\n",
      "   macro avg       0.93      0.91      0.92     15155\n",
      "weighted avg       0.93      0.91      0.92     15155\n",
      " samples avg       0.91      0.91      0.91     15155\n",
      "\n",
      "Precision:   [0.7558116  0.99821958 0.99468556 0.98145465]\n",
      "Sensitivity: [0.99415049 0.89088983 0.88216811 0.89155041]\n",
      "Specificity: [0.89397929 0.99947271 0.99841214 0.99436421]\n",
      "F1-score:    [0.85875057 0.94150574 0.93505412 0.93434483]\n",
      "Accuracy:    [0.91883867 0.97241834 0.9691191  0.96859122]\n",
      "\n",
      "[[0.7558116  0.99415049 0.89397929 0.85875057 0.91883867]\n",
      " [0.99821958 0.89088983 0.99947271 0.94150574 0.97241834]\n",
      " [0.99468556 0.88216811 0.99841214 0.93505412 0.9691191 ]\n",
      " [0.98145465 0.89155041 0.99436421 0.93434483 0.96859122]]\n",
      "Accuracy: 0.8890135268888155\n",
      "              precision    recall  f1-score   support\n",
      "\n",
      "     Class 0       0.76      0.99      0.86      3802\n",
      "     Class 1       0.99      0.88      0.93      3797\n",
      "     Class 2       0.99      0.89      0.94      3741\n",
      "     Class 3       0.99      0.89      0.94      3815\n",
      "\n",
      "   micro avg       0.91      0.91      0.91     15155\n",
      "   macro avg       0.93      0.91      0.92     15155\n",
      "weighted avg       0.93      0.91      0.92     15155\n",
      " samples avg       0.91      0.91      0.91     15155\n",
      "\n",
      "Precision:   [0.75560897 0.98992593 0.99283796 0.98894385]\n",
      "Sensitivity: [0.99210942 0.87990519 0.8893344  0.89095675]\n",
      "Specificity: [0.89253942 0.99700652 0.99789732 0.99664903]\n",
      "F1-score:    [0.85785763 0.93167875 0.93824027 0.93739658]\n",
      "Accuracy:    [0.91751897 0.96766744 0.97109865 0.97004289]\n",
      "\n",
      "[[0.75560897 0.99210942 0.89253942 0.85785763 0.91751897]\n",
      " [0.98992593 0.87990519 0.99700652 0.93167875 0.96766744]\n",
      " [0.99283796 0.8893344  0.99789732 0.93824027 0.97109865]\n",
      " [0.98894385 0.89095675 0.99664903 0.93739658 0.97004289]]\n",
      "Accuracy: 0.8855823160673045\n",
      "              precision    recall  f1-score   support\n",
      "\n",
      "     Class 0       0.74      1.00      0.85      3655\n",
      "     Class 1       0.99      0.89      0.94      3841\n",
      "     Class 2       1.00      0.88      0.93      3840\n",
      "     Class 3       0.99      0.89      0.94      3819\n",
      "\n",
      "   micro avg       0.91      0.91      0.91     15155\n",
      "   macro avg       0.93      0.91      0.91     15155\n",
      "weighted avg       0.93      0.91      0.92     15155\n",
      " samples avg       0.91      0.91      0.91     15155\n",
      "\n",
      "Precision:   [0.74088409 0.99417419 0.99645809 0.98948905]\n",
      "Sensitivity: [0.99507524 0.88857068 0.87916667 0.88740508]\n",
      "Specificity: [0.8893913  0.99823228 0.99893946 0.99682428]\n",
      "F1-score:    [0.84936945 0.93841078 0.93414499 0.9356709 ]\n",
      "Accuracy:    [0.91487958 0.9704388  0.96859122 0.96925107]\n",
      "\n",
      "[[0.74088409 0.99507524 0.8893913  0.84936945 0.91487958]\n",
      " [0.99417419 0.88857068 0.99823228 0.93841078 0.9704388 ]\n",
      " [0.99645809 0.87916667 0.99893946 0.93414499 0.96859122]\n",
      " [0.98948905 0.88740508 0.99682428 0.9356709  0.96925107]]\n",
      "Accuracy: 0.880435499835038\n",
      "              precision    recall  f1-score   support\n",
      "\n",
      "     Class 0       0.75      0.99      0.85      3859\n",
      "     Class 1       0.99      0.89      0.94      3775\n",
      "     Class 2       0.99      0.87      0.93      3858\n",
      "     Class 3       0.98      0.89      0.93      3663\n",
      "\n",
      "   micro avg       0.91      0.91      0.91     15155\n",
      "   macro avg       0.93      0.91      0.91     15155\n",
      "weighted avg       0.93      0.91      0.91     15155\n",
      " samples avg       0.91      0.91      0.91     15155\n",
      "\n",
      "Precision:   [0.74975485 0.99464126 0.99409333 0.98369073]\n",
      "Sensitivity: [0.99067116 0.88503311 0.87247278 0.88916189]\n",
      "Specificity: [0.88703966 0.99841828 0.99822962 0.99530108]\n",
      "F1-score:    [0.85353874 0.93664144 0.92932082 0.93404072]\n",
      "Accuracy:    [0.91342791 0.97017486 0.96621577 0.96964698]\n",
      "\n",
      "[[0.74975485 0.99067116 0.88703966 0.85353874 0.91342791]\n",
      " [0.99464126 0.88503311 0.99841828 0.93664144 0.97017486]\n",
      " [0.99409333 0.87247278 0.99822962 0.92932082 0.96621577]\n",
      " [0.98369073 0.88916189 0.99530108 0.93404072 0.96964698]]\n"
     ]
    }
   ],
   "source": [
    "from sklearn.model_selection import KFold\n",
    "from sklearn.metrics import classification_report\n",
    "from sklearn.metrics import confusion_matrix\n",
    "from sklearn import metrics\n",
    "from sklearn.ensemble import RandomForestClassifier\n",
    "#kfold = StratifiedKFold(n_splits=5, shuffle=True, random_state=7)\n",
    "kfold = KFold(n_splits=5, shuffle=True, random_state=7)\n",
    "cvscores = []\n",
    "num_kfold=1\n",
    "#from tensorflow.keras.layers import Activation, Dense\n",
    "#new_model = GlobalAveragePooling2D()(model)\n",
    "#drop = Dropout(0.2)(new_model)\n",
    "#new_model2 = Dense(4,activation='relu')(drop)\n",
    "\n",
    "#new_model3 = Model(inputs=model.input, outputs=new_model)\n",
    "#layers.GlobalAveragePooling2D(\n",
    "#    data_format=None, keepdims=False, #**kwargs\n",
    "#)\n",
    "\n",
    "mean = [[[],[],[],[],[]],\n",
    "         [[],[],[],[],[]],\n",
    "         [[],[],[],[],[]],\n",
    "         [[],[],[],[],[]]]\n",
    "\n",
    "std = [[[],[],[],[],[]],\n",
    "         [[],[],[],[],[]],\n",
    "         [[],[],[],[],[]],\n",
    "         [[],[],[],[],[]]]\n",
    "\n",
    "for train, test in kfold.split (X, Y):\n",
    "    \n",
    "    clf=RandomForestClassifier(n_estimators=100)\n",
    "    #train_labels2=train_labels[:49984]\n",
    "    clf.fit(X[train],Y[train])\n",
    "    \n",
    "    y_pred=clf.predict(X[test])\n",
    "    print(\"Accuracy:\",metrics.accuracy_score(Y[test], y_pred))\n",
    "    #faz a predição das imagens\n",
    "\n",
    "    from keras.utils import to_categorical\n",
    "\n",
    "    predicted_classes = y_pred\n",
    "\n",
    "    predicted_classes = np.argmax(np.round(predicted_classes),axis=1)\n",
    "\n",
    "    predicted_classes = to_categorical(predicted_classes)\n",
    "\n",
    "#    predicted_classes.shape, test_label.shape\n",
    "\n",
    "    num_classes = 4\n",
    "\n",
    "    target_names = [\"Class {}\".format(i) for i in range(num_classes)]\n",
    "    print(classification_report(Y[test], predicted_classes, target_names=target_names))\n",
    "\n",
    "    #converte os arrays de classe de one-hot para númerico\n",
    "    test_label = np.argmax(Y[test], axis=1)\n",
    "    predicted_classes = np.argmax(predicted_classes, axis=1)\n",
    "\n",
    "    #gera a matriz de confusão a partir da predição feita\n",
    "    cm = confusion_matrix(test_label, predicted_classes)\n",
    "\n",
    "    #gera os valores de falso positivo, falso negativo, verdadeiro positivo e verdadeiro negativo\n",
    "    fp = cm.sum(axis=0) - np.diag(cm)  \n",
    "    fn = cm.sum(axis=1) - np.diag(cm)\n",
    "    tp = np.diag(cm)\n",
    "    tn = cm.sum() - (fp + fn + tp)\n",
    "\n",
    "    #gera a sensitividade, especificidade, acurácia e precisão\n",
    "    sensitivity = tp / (tp + fn)\n",
    "    specificity = tn / (tn + fp)\n",
    "    accuracy    = (tp + tn) / (tp + tn + fp + fn)\n",
    "    precision   = tp / (tp + fp)\n",
    "    f1_score = 2/((1/precision)+(1/sensitivity))\n",
    "\n",
    "    #mostra os resultados\n",
    "    print(\"Precision:  \", precision)\n",
    "    print(\"Sensitivity:\", sensitivity)\n",
    "    print(\"Specificity:\", specificity)\n",
    "    print(\"F1-score:   \", f1_score)\n",
    "    print(\"Accuracy:   \", accuracy)\n",
    "    \n",
    "    x = []\n",
    "    x.append(precision)\n",
    "    x.append(sensitivity)\n",
    "    x.append(specificity)\n",
    "    x.append(f1_score)\n",
    "    x.append(accuracy)\n",
    "    \n",
    "    x = np.asarray(x)\n",
    "    \n",
    "    x = x.transpose()\n",
    "    print()\n",
    "    print(x)\n",
    "    \n",
    "    for i in range(4):\n",
    "        for j in range(5):\n",
    "            mean[i][j].append(x[i][j])\n",
    "            std[i][j].append(x[i][j])"
   ]
  },
  {
   "cell_type": "code",
   "execution_count": 8,
   "id": "3fc0565d",
   "metadata": {},
   "outputs": [
    {
     "name": "stdout",
     "output_type": "stream",
     "text": [
      "[[[0.7557612763442978, 0.7558116029917121, 0.7556089743589743, 0.7408840904461194, 0.7497548538929202], [0.9922420480993018, 0.9941504918904547, 0.9921094160967912, 0.9950752393980848, 0.9906711583311739], [0.890158561431482, 0.8939792873442163, 0.892539416894213, 0.8893913043478261, 0.8870396600566572], [0.8580053667262969, 0.8587505741846577, 0.8578576302024108, 0.8493694535263895, 0.8535387363250726], [0.9162048033782001, 0.9188386671065655, 0.9175189706367536, 0.9148795776971297, 0.9134279115803365]], [[0.9928464977645306, 0.9982195845697329, 0.9899259259259259, 0.994174191669094, 0.9946412622804406], [0.8870838881491345, 0.8908898305084746, 0.8799051883065578, 0.8885706847175214, 0.8850331125827815], [0.9978949214981142, 0.9994727128921698, 0.9970065152315548, 0.9982322785928938, 0.9984182776801406], [0.9369901547116738, 0.9415057374755108, 0.9316787506971557, 0.93841077811383, 0.9366414353798711], [0.9704407495381367, 0.9724183437809304, 0.9676674364896074, 0.9704387990762124, 0.97017485978225]], [[0.9915356711003628, 0.9946855624446412, 0.9928379588182632, 0.9964580873671782, 0.9940933254577673], [0.8898534997287032, 0.8821681068342498, 0.8893344025661588, 0.8791666666666667, 0.8724727838258165], [0.9975588491717524, 0.9984121383203952, 0.9978973190818293, 0.9989394608926204, 0.998229618482783], [0.9379468115527595, 0.935054121565362, 0.9382402707275803, 0.9341449916989486, 0.9293208172280508], [0.9713644761150699, 0.9691191026064006, 0.9710986473111184, 0.9685912240184757, 0.9662157703728143]], [[0.9918032786885246, 0.9814546508258476, 0.988943846377655, 0.9894890510948905, 0.9836907278767744], [0.8804573804573804, 0.8915504080021058, 0.890956749672346, 0.8874050798638387, 0.8891618891618892], [0.9975238769013088, 0.9943642127509686, 0.9966490299823633, 0.9968242766407904, 0.9953010790114862], [0.9328193832599119, 0.9343448275862068, 0.9373965802537231, 0.935670900055218, 0.9340407226842559], [0.9678015307468989, 0.9685912240184757, 0.9700428901352689, 0.9692510722533817, 0.9696469811943254]]]\n"
     ]
    }
   ],
   "source": [
    "print(mean)"
   ]
  },
  {
   "cell_type": "code",
   "execution_count": 25,
   "id": "508d16f7",
   "metadata": {},
   "outputs": [
    {
     "name": "stdout",
     "output_type": "stream",
     "text": [
      "[0.75156416 0.99284967 0.89062165 0.85550435 0.91617399]\n",
      "[0.99396149 0.88629654 0.99820494 0.93704537 0.97022804]\n",
      "[0.99392212 0.88259909 0.99820748 0.9349414  0.96927784]\n",
      "[0.98707631 0.8879063  0.9961325  0.93485448 0.96906674]\n",
      "\n",
      "[0.00581987 0.00156897 0.00242942 0.003573   0.00190404]\n",
      "[0.00268952 0.00372386 0.00079823 0.00318515 0.00151305]\n",
      "[0.00166816 0.00651921 0.00046799 0.00322964 0.00187309]\n",
      "[0.00386571 0.00399747 0.00114012 0.00156156 0.00079378]\n"
     ]
    }
   ],
   "source": [
    "mean = np.asarray(mean)\n",
    "std = np.asarray(std)\n",
    "for i in mean:\n",
    "    print(np.mean(i,axis=1))\n",
    "print()\n",
    "for i in std:\n",
    "    print(np.std(i,axis=1))"
   ]
  },
  {
   "cell_type": "code",
   "execution_count": 9,
   "id": "1d74f077",
   "metadata": {},
   "outputs": [],
   "source": [
    "#import keras\n",
    "#intermediate_layer_model = keras.Model(inputs=new_model.input,\n",
    "#                                       outputs=new_model.get_layer('flatten').output)\n",
    "#intermediate_output = intermediate_layer_model.predict(valid_X)"
   ]
  },
  {
   "cell_type": "code",
   "execution_count": 10,
   "id": "cd9e21a2",
   "metadata": {},
   "outputs": [],
   "source": [
    "#newArr = np.append(intermediate_output, GLCM_features2 , axis=1)"
   ]
  },
  {
   "cell_type": "code",
   "execution_count": 11,
   "id": "0cdaf900",
   "metadata": {},
   "outputs": [],
   "source": [
    "#from sklearn.ensemble import RandomForestClassifier"
   ]
  },
  {
   "cell_type": "code",
   "execution_count": 12,
   "id": "c6cd5641",
   "metadata": {},
   "outputs": [],
   "source": [
    "#clf=RandomForestClassifier(n_estimators=100)\n",
    "#train_labels2=train_labels[:49984]\n",
    "#clf.fit(train_X,train_label)"
   ]
  },
  {
   "cell_type": "code",
   "execution_count": 13,
   "id": "280ffef9",
   "metadata": {},
   "outputs": [],
   "source": [
    "#intermediate_layer_model_2 = keras.Model(inputs=new_model.input,\n",
    "#                                       outputs=new_model.get_layer('flatten').output)\n",
    "#intermediate_output_2 = intermediate_layer_model_2.predict(test_X)"
   ]
  },
  {
   "cell_type": "code",
   "execution_count": 14,
   "id": "87b4bfc5",
   "metadata": {},
   "outputs": [],
   "source": [
    "#newArr_test = np.append(intermediate_output_2, GLCM_features2_test , axis=1)"
   ]
  },
  {
   "cell_type": "code",
   "execution_count": 15,
   "id": "9712949c",
   "metadata": {},
   "outputs": [],
   "source": [
    "#y_pred=clf.predict(test_X)"
   ]
  },
  {
   "cell_type": "code",
   "execution_count": 16,
   "id": "439c7f86",
   "metadata": {
    "scrolled": true
   },
   "outputs": [],
   "source": [
    "#from sklearn import metrics\n",
    "# Model Accuracy, how often is the classifier correct?\n",
    "#print(\"Accuracy:\",metrics.accuracy_score(test_label, y_pred))"
   ]
  },
  {
   "cell_type": "code",
   "execution_count": 17,
   "id": "d32669e4",
   "metadata": {},
   "outputs": [],
   "source": [
    "#faz a predição das imagens\n",
    "\n",
    "#from keras.utils import to_categorical\n",
    "\n",
    "#predicted_classes = y_pred\n",
    "\n",
    "#predicted_classes = np.argmax(np.round(predicted_classes),axis=1)\n",
    "\n",
    "#predicted_classes = to_categorical(predicted_classes)\n",
    "\n",
    "#predicted_classes.shape, test_label.shape"
   ]
  },
  {
   "cell_type": "code",
   "execution_count": 18,
   "id": "0057c8b0",
   "metadata": {},
   "outputs": [],
   "source": [
    "#mostra as estatísticas de cada classe\n",
    "#num_classes = 4\n",
    "\n",
    "#from sklearn.metrics import classification_report\n",
    "#target_names = [\"Class {}\".format(i) for i in range(num_classes)]\n",
    "#print(classification_report(test_label, predicted_classes, target_names=target_names))"
   ]
  },
  {
   "cell_type": "code",
   "execution_count": 19,
   "id": "1c799316",
   "metadata": {},
   "outputs": [],
   "source": [
    "#from sklearn.metrics import confusion_matrix\n",
    "\n",
    "#converte os arrays de classe de one-hot para númerico\n",
    "#test_label = np.argmax(test_label, axis=1)\n",
    "#predicted_classes = np.argmax(predicted_classes, axis=1)\n",
    "\n",
    "#gera a matriz de confusão a partir da predição feita\n",
    "#cm = confusion_matrix(test_label, predicted_classes)\n",
    "\n",
    "#gera os valores de falso positivo, falso negativo, verdadeiro positivo e verdadeiro negativo\n",
    "#fp = cm.sum(axis=0) - np.diag(cm)  \n",
    "#fn = cm.sum(axis=1) - np.diag(cm)\n",
    "#tp = np.diag(cm)\n",
    "#tn = cm.sum() - (fp + fn + tp)\n",
    "\n",
    "#gera a sensitividade, especificidade, acurácia e precisão\n",
    "#sensitivity = tp / (tp + fn)\n",
    "#specificity = tn / (tn + fp)\n",
    "#accuracy    = (tp + tn) / (tp + tn + fp + fn)\n",
    "#precision   = tp / (tp + fp)\n",
    "#f1_score = 2/((1/precision)+(1/sensitivity))\n",
    "\n",
    "#mostra os resultados\n",
    "#print(\"Precision:  \", precision)\n",
    "#print(\"Sensitivity:\", sensitivity)\n",
    "#print(\"Specificity:\", specificity)\n",
    "#print(\"F1-score:   \", f1_score)\n",
    "#print(\"Accuracy:   \", accuracy)"
   ]
  },
  {
   "cell_type": "code",
   "execution_count": null,
   "id": "a9cfa165",
   "metadata": {},
   "outputs": [],
   "source": []
  }
 ],
 "metadata": {
  "kernelspec": {
   "display_name": "Python 3 (ipykernel)",
   "language": "python",
   "name": "python3"
  },
  "language_info": {
   "codemirror_mode": {
    "name": "ipython",
    "version": 3
   },
   "file_extension": ".py",
   "mimetype": "text/x-python",
   "name": "python",
   "nbconvert_exporter": "python",
   "pygments_lexer": "ipython3",
   "version": "3.9.7"
  }
 },
 "nbformat": 4,
 "nbformat_minor": 5
}
