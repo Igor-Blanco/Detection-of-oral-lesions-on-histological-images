{
 "cells": [
  {
   "cell_type": "code",
   "execution_count": 1,
   "id": "cf574775",
   "metadata": {},
   "outputs": [],
   "source": [
    "import numpy as np\n",
    "import matplotlib.pyplot as plt\n",
    "import os\n",
    "import cv2\n",
    "from numpy import expand_dims\n",
    "from keras.preprocessing.image import load_img\n",
    "from keras.preprocessing.image import img_to_array\n",
    "from keras.preprocessing.image import ImageDataGenerator\n",
    "import imutils"
   ]
  },
  {
   "cell_type": "code",
   "execution_count": 2,
   "id": "5bc73c03",
   "metadata": {},
   "outputs": [],
   "source": [
    "DATADIR = \"D:/Displasia/Resultado GAN\"\n",
    "CATEGORIES = [\"healthy\",\"mild\",\"moderate\",\"severe\"]"
   ]
  },
  {
   "cell_type": "code",
   "execution_count": 3,
   "id": "aef5cc0d",
   "metadata": {},
   "outputs": [],
   "source": [
    "window_size = 32\n",
    "image_height = 128\n",
    "image_width = 128\n",
    "window_step = 1\n",
    "window_cut = 32\n",
    "def cutting_image(image):\n",
    "    windows = []\n",
    "    for y in range(0, image_height, window_cut):\n",
    "        for x in range(0, image_width, window_cut):\n",
    "            window = image[y:y+window_size, x:x+window_size]\n",
    "            windows.append(window)\n",
    "    return windows"
   ]
  },
  {
   "cell_type": "code",
   "execution_count": 4,
   "id": "0ba5f88e",
   "metadata": {},
   "outputs": [],
   "source": [
    "IMG_SIZE = 128\n",
    "\n",
    "training_data = []\n",
    "#training_label = []\n",
    "def create_training_data():\n",
    "    for category in CATEGORIES:\n",
    "        path = os.path.join(DATADIR,category,\"Original\")\n",
    "        class_num = CATEGORIES.index(category)\n",
    "        for img in os.listdir(path):\n",
    "#        try:\n",
    "            img_array = cv2.imread(os.path.join(path,img))\n",
    "            img_array = cv2.cvtColor(img_array, cv2.COLOR_BGR2RGB)\n",
    "#            img = img_array[0:224,0:448]\n",
    "#            print(img_array.shape)\n",
    "#            print(img_array.shape)\n",
    "###            new_array = cv2.resize(img_array,(IMG_SIZE,IMG_SIZE))\n",
    "#            img_pad = cv2.copyMakeBorder(img_array, 99, 99, 111, 111, cv2.BORDER_CONSTANT, (0,0,0))\n",
    "#            print(img_pad.shape)\n",
    "#            plt.imshow(img_pad)\n",
    "#            plt.show()\n",
    "###            window = cutting_image(new_array)\n",
    "#            print(len(window))\n",
    "###            for img in window:\n",
    "#                samples = expand_dims(img, 0)\n",
    "            # create image data augmentation generator\n",
    "#                datagen = ImageDataGenerator(horizontal_flip=True, vertical_flip=True, rotation_range=90)\n",
    "            # prepare iterator\n",
    "#                it = datagen.flow(samples, batch_size=1)\n",
    "            # generate samples and plot\n",
    "#                for i in range(4):\n",
    "                # define subplot\n",
    "#                pyplot.subplot(330 + 1 + i)\n",
    "                # generate batch of images\n",
    "#                    batch = it.next()\n",
    "                # convert to unsigned integers for viewing\n",
    "#                    image = batch[0].astype('uint8')\n",
    "            training_data.append([img,class_num])\n",
    "#            training_label.append(class_num)\n",
    "#        except Exception as e:\n",
    "#            pass\n",
    "            \n",
    "#            break\n",
    "#        break\n",
    "\n",
    "create_training_data()"
   ]
  },
  {
   "cell_type": "code",
   "execution_count": 5,
   "id": "50d3bb68",
   "metadata": {},
   "outputs": [
    {
     "name": "stdout",
     "output_type": "stream",
     "text": [
      "592\n"
     ]
    }
   ],
   "source": [
    "print(len(training_data))"
   ]
  },
  {
   "cell_type": "code",
   "execution_count": 1,
   "id": "2e5daaac",
   "metadata": {},
   "outputs": [],
   "source": [
    "#for img,label in training_data[:15]:\n",
    "#    plt.imshow(img)\n",
    "#    plt.show()"
   ]
  },
  {
   "cell_type": "code",
   "execution_count": 7,
   "id": "fde1c1de",
   "metadata": {},
   "outputs": [],
   "source": [
    "import random\n",
    "random.shuffle(training_data)\n",
    "\n",
    "X = []\n",
    "Y = []\n",
    "\n",
    "for features, label in training_data:\n",
    "    X.append(features)\n",
    "    Y.append(label)\n",
    "    \n",
    "X=np.array(X).reshape(-1,32,32,3)\n",
    "Y=np.array(Y).reshape(-1,1)"
   ]
  },
  {
   "cell_type": "code",
   "execution_count": 8,
   "id": "a73b1dea",
   "metadata": {},
   "outputs": [],
   "source": [
    "#cria cópias com rotação de 90 graus\n",
    "\n",
    "rotX = []\n",
    "rotY = []\n",
    "\n",
    "for i in range(len(X)):\n",
    "    rotX.append(cv2.rotate(X[i], cv2.ROTATE_90_COUNTERCLOCKWISE))\n",
    "    rotY.append(Y[i])\n",
    "\n",
    "rotX = np.asarray(rotX)\n",
    "rotY = np.asarray(rotY)\n",
    "\n",
    "#adiciona as cópias ao array dos crops\n",
    "X = np.concatenate((X, rotX))\n",
    "Y = np.concatenate((Y, rotY))"
   ]
  },
  {
   "cell_type": "code",
   "execution_count": 9,
   "id": "073a82aa",
   "metadata": {},
   "outputs": [],
   "source": [
    "#cria cópias espelhadas horizontalmente\n",
    "\n",
    "mirrX = []\n",
    "mirrY = []\n",
    "\n",
    "for i in range(len(X)):\n",
    "    mirrX.append(cv2.flip(X[i], 1))\n",
    "    mirrY.append(Y[i])\n",
    "\n",
    "mirrX = np.asarray(mirrX)\n",
    "mirrY = np.asarray(mirrY)\n",
    "\n",
    "#adiciona as cópias ao array dos crops\n",
    "X = np.concatenate((X, mirrX))\n",
    "Y = np.concatenate((Y, mirrY))"
   ]
  },
  {
   "cell_type": "code",
   "execution_count": 10,
   "id": "aa565be4",
   "metadata": {},
   "outputs": [],
   "source": [
    "#cria cópias espelhadas verticalmente\n",
    "\n",
    "mirrX = []\n",
    "mirrY = []\n",
    "\n",
    "for i in range(len(X)):\n",
    "    mirrX.append(cv2.flip(X[i], 0))\n",
    "    mirrY.append(Y[i])\n",
    "\n",
    "mirrX = np.asarray(mirrX)\n",
    "mirrY = np.asarray(mirrY)\n",
    "\n",
    "#adiciona as cópias ao array dos crops\n",
    "X = np.concatenate((X, mirrX))\n",
    "Y = np.concatenate((Y, mirrY))"
   ]
  },
  {
   "cell_type": "code",
   "execution_count": 11,
   "id": "8093ffc9",
   "metadata": {},
   "outputs": [
    {
     "name": "stdout",
     "output_type": "stream",
     "text": [
      "75776\n"
     ]
    }
   ],
   "source": [
    "print(len(X))"
   ]
  },
  {
   "cell_type": "code",
   "execution_count": 12,
   "id": "b795edb8",
   "metadata": {},
   "outputs": [],
   "source": [
    "from keras.utils import to_categorical\n",
    "dataY_oneHot = to_categorical(Y)"
   ]
  },
  {
   "cell_type": "code",
   "execution_count": 13,
   "id": "2769d337",
   "metadata": {},
   "outputs": [],
   "source": [
    "np.save(\"D:/Displasia/displasiaDataAug/displasiaOriginalDataX_teste3.npy\", X)\n",
    "np.save(\"D:/Displasia/displasiaDataAug/displasiaOriginalDataYOneHot_teste3.npy\", dataY_oneHot)"
   ]
  },
  {
   "cell_type": "code",
   "execution_count": 14,
   "id": "316c2939",
   "metadata": {
    "scrolled": false
   },
   "outputs": [
    {
     "name": "stdout",
     "output_type": "stream",
     "text": [
      "Original label: [0]\n",
      "After conversion to one-hot: [1. 0. 0. 0.]\n"
     ]
    }
   ],
   "source": [
    "print('Original label:',Y[4])\n",
    "print('After conversion to one-hot:', dataY_oneHot[4])"
   ]
  },
  {
   "cell_type": "code",
   "execution_count": null,
   "id": "81e91135",
   "metadata": {},
   "outputs": [],
   "source": []
  }
 ],
 "metadata": {
  "kernelspec": {
   "display_name": "Python 3 (ipykernel)",
   "language": "python",
   "name": "python3"
  },
  "language_info": {
   "codemirror_mode": {
    "name": "ipython",
    "version": 3
   },
   "file_extension": ".py",
   "mimetype": "text/x-python",
   "name": "python",
   "nbconvert_exporter": "python",
   "pygments_lexer": "ipython3",
   "version": "3.9.7"
  }
 },
 "nbformat": 4,
 "nbformat_minor": 5
}
